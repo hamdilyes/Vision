{
 "cells": [
  {
   "cell_type": "markdown",
   "metadata": {},
   "source": [
    "<center><img src='./Figs/cs-logo.png' width=200></center>\n",
    "\n",
    "\n",
    "\n",
    "<h6><center></center></h6>\n",
    "\n",
    "<h1>\n",
    "<hr style=\" border:none; height:3px;\">\n",
    "<center>Sujet 1 : Colorisation de l'Empire Russe </center>\n",
    "<hr style=\" border:none; height:3px;\">\n",
    "</h1>\n"
   ]
  },
  {
   "cell_type": "markdown",
   "metadata": {},
   "source": [
    " Ce TP est inspiré du TP d' Alexei Alyosha Efros, un grand chercheur en vision et en informatique graphique et proposé dans le cadre de son cours *Intro to Computer Vision and Computational Photography*"
   ]
  },
  {
   "cell_type": "markdown",
   "metadata": {},
   "source": [
    "# Un peu d'histoire\n",
    "\n",
    "En 1907, Sergei Mikhailovich Prokudin-Gorskii (1863-1944), convaincu que la photographie couleur est la voie de l'avenir, demande et obtient une permission du Tzar pour traverser l'empire russe et prendre des photographies couleurs de tout ce qu'il voyait. Il a réellement tout photographié: \n",
    "+ des gens,\n",
    "+ des édifices,\n",
    "+ des paysages,\n",
    "+ des chemins de fer,\n",
    "+ des ponts... \n",
    "\n",
    "\n",
    "L'objectif est de produire des milliers de photographies couleurs. A cette époque, la photographie couleur n'existe pas encore. Son idée est toute simple: **enregistrer sur des lames de verre trois expositions de chaque scène en utilisant un filtre rouge, vert et bleu pour chacune d'elles**.\n",
    "\n",
    "<center><img src='./Images/cathedral.jpeg' width=200></center>\n",
    "\n",
    "A l'époque, les imprimante n'existent pas et il n'y a aucun moyen d'imprimer ces photos couleurs! Il s'imagine des projecteurs spéciaux installés dans des locaux de classe au travers de tout l'empire où les enfants pourront en apprendre plus sur leur vaste pays. Malheureusement, ses plans ne se sont jamais réalisés. Il quitte la Russie en 1918, juste après la révolution. \n",
    "\n",
    "Les négatifs RGB (\"Red-Green-Blue\", ou Rouge-Bleu-Vert) capturant les dernières années de l'empire russe ont survécu et furent achetées en 1948 par la Librairie du Congrès aux États-Unis. Celle-ci a récemment, en 2004, numérisé ces négatifs et les ont rendus accessibles sur Internet. Il s'agit de la [collection Prokudin-Gorskii](https://www.loc.gov/pictures/collection/prok/).\n",
    "\n",
    "L'explication de comment les images ont été colorisées est disponible [ici](https://www.loc.gov/exhibits/empire/making.html).\n",
    "\n"
   ]
  },
  {
   "cell_type": "markdown",
   "metadata": {},
   "source": [
    "# Objectif de ce TP\n",
    "\n",
    "Le but de ce TP est de générer automatiquement une image couleur à partir des plaques de verre numérisées de la collection Prokudin-Gorskii, et ce avec le minimum d'artefacts visuels possible.\n",
    "\n",
    "Pour cela, il vous faudra extraire les trois canaux de couleurs, les agencer un par-dessus l'autre, et les aligner pour que leur combinaison forme une image couleur RGB (synthèse additive). Un simple modèle de translation (en x, y) est suffisant pour un aligner les images correctement. Par contre, puisque les plaques de verre sont de très grandes tailles, la procédure d'alignement doit être relativement rapide et efficace."
   ]
  },
  {
   "cell_type": "markdown",
   "metadata": {},
   "source": [
    "## Quelques indications.\n",
    "\n",
    "Quelques-unes des images de plaques de verre numérisées (basse et haute résolution) sont disponibles dans le répertoire Data (l'ordre des filtres de haut en bas est BGR et non RGB !).\n",
    "\n",
    "<center><img src='./Images/3-rgb.jpeg' width=200></center>\n",
    "\n",
    "\n",
    "L'objectif est de concevoir un  programme qui prendra une image de la plaque de verre en entrée et qui retournera une image en couleur en sortie. \n",
    "Le programme doit\n",
    "+ diviser l'image originale en trois images de même dimension.\n",
    "+ Ensuite, il doit aligner les deuxième et troisième images (G et R) à la première (B).\n",
    "+ Pour chaque image,il faudra ensuite calculer le vecteur de déplacement $(x , y)$ nécessaire à son alignement avec la première.\n",
    "\n"
   ]
  },
  {
   "cell_type": "markdown",
   "metadata": {},
   "source": [
    "### Etape 0 : prise en main des images\n",
    "\n",
    "Ecrire une fonction permettant de charger et d'afficher une image de la collection (fournie dans le répertoire [Data](./Data))."
   ]
  },
  {
   "cell_type": "code",
   "execution_count": null,
   "metadata": {},
   "outputs": [],
   "source": [
    "# TO COMPLETE\n"
   ]
  },
  {
   "cell_type": "markdown",
   "metadata": {},
   "source": [
    "### Etape 1 : Division  de l'image originale\n",
    "Ecrire ici le code vous permettant de division l'image originale en trois images de même dimension.\n",
    "\n"
   ]
  },
  {
   "cell_type": "code",
   "execution_count": null,
   "metadata": {},
   "outputs": [],
   "source": [
    "# TO COMPLETE"
   ]
  },
  {
   "cell_type": "markdown",
   "metadata": {},
   "source": [
    "A partir de cette division, générer alors l'image couleur résultant des trois canaux obtenus. "
   ]
  },
  {
   "cell_type": "code",
   "execution_count": null,
   "metadata": {},
   "outputs": [],
   "source": [
    "# TO COMPLETE"
   ]
  },
  {
   "cell_type": "markdown",
   "metadata": {},
   "source": [
    "Qu'observez-vous ?"
   ]
  },
  {
   "cell_type": "markdown",
   "metadata": {},
   "source": [
    "### Etape 2 : Alignement des images\n",
    "\n",
    "\n",
    "Ici, il n'est pas possible de simplement superposer naïvement les canaux puisqu'ils sont très légèrement différents les uns des autres. Ces différences ont pu apparaître à cause de sujets en mouvement ou de légers changements dans le mouvement de la caméra. Vous devez donc trouver un moyen d'aligner ces canaux en utilisant les informations contenues dans les canaux (les pixels).\n",
    "\n",
    "#### Approche exhaustive\n",
    "\n",
    "La façon la plus facile d'aligner les images est d'effectuer une recherche exhaustive sur une fenêtre de **déplacements possibles** (par exemple $[-15:15]$ pixels) et d'évaluer chacun de ceux-ci en utilisant une métrique de comparaison. Il suffit ensuite de prendre le déplacement avec le meilleur score.\n",
    "\n",
    "\n",
    "Plusieurs mesures permettant d'évaluer si les images sont bien alignées. La plus simple est la somme des différences au carré.\n",
    "\n",
    "$SSD(\\vec{x}, \\vec{y}) = \\sum_{i}\\sum_{j}(\\vec{x}_{i,j} - \\vec{y}_{i,j})^2$\n",
    "\n",
    "Il est aussi possible d'utiliser la corrélation croisée normalisée (CCN), qui est tout simplement un produit scalaire entre deux vecteurs normalisés :\n",
    "\n",
    "$NCC(\\vec{x}, \\vec{y}) = \\langle\\frac{\\vec{x}}{||\\vec{x}||}, \\frac{\\vec{y}}{||\\vec{y}||}\\rangle$\n",
    "\n",
    "Ecrire le code permettant de choisir, par cette approche, le meilleur dépacement entre le canal B et le canal R et entre le canal B et le canal G pour aligner ensuite les images et construire l'image couleur résultant de cet alignement.\n",
    "\n",
    "**Indication** : Les bords de l'image, mal alignés, peuvent fausser le résultat de cette fonction de score. Vous pouvez par exemple ignorer un pourcentage des bords (marges) de chaque côté de l'image dans le calcul de ces métriques.  \n"
   ]
  },
  {
   "cell_type": "code",
   "execution_count": null,
   "metadata": {},
   "outputs": [],
   "source": [
    "# TO COMPLETE"
   ]
  },
  {
   "cell_type": "markdown",
   "metadata": {},
   "source": [
    "Apppliquer votre code aux différentes images de faible résolution (.jpeg) fournies en affichant pour chacune le déplacement retenu.\n",
    "\n",
    "\n",
    "\n",
    "<center><img src='./Images/cathedrale.png' width=700></center>\n",
    "\n",
    "\n"
   ]
  },
  {
   "cell_type": "code",
   "execution_count": null,
   "metadata": {},
   "outputs": [],
   "source": [
    "# TO COMPLETE"
   ]
  },
  {
   "cell_type": "markdown",
   "metadata": {},
   "source": [
    "### Approche à base d'une pyramide d'images\n",
    "\n",
    "La recherche exhaustive de l'étape précédente deviendra trop lourde si le déplacement de pixels est trop grand (ce qui sera le cas pour les analyses de la plaque de verre à haute résolution). \n",
    "\n",
    "Dans ce cas, vous devrez implémenter une procédure de recherche plus rapide basée sur une [pyramide d'images](https://fr.wikipedia.org/wiki/Pyramide_(traitement_d%27image)). Une pyramide d'images, comme nous l'avons vu en cours, représente l'image à plusieurs échelles. Généralement, on obtient une pyramide en divisant l'échelle d'un facteur de 2 à chaque étape. On obtient donc une série d'images, qui ne sont que l'image originale à l'échelle 1, 1/2, 1/4, etc.\n",
    "\n",
    "L'alignement d'images se fait de manière séquentielle à partir de l'échelle la plus petite (1/4 par exemple) jusqu'à la plus grande (1) en mettant à jour l'estimé de translation au fur et à mesure. Cela est très facile à implémenter en ajoutant des appels récursifs à votre implémentation initiale à une seule échelle.\n",
    "\n",
    "Par exemple, une procédure pourrait être :\n",
    "\n",
    "+ Réduire l'échelle de l'image par un facteur.\n",
    "+ Recherche des déplacements possibles dans une fenêtre de recherche.\n",
    "+ Calculer le score de chaque déplacement des canaux rouge et vert avec le canal de couleur bleue d'origine en utilisant la corrélation croisée normalisée\n",
    "+ Mise à jour de l'image avec le déplacement calculé, multiplié par le facteur d'échelle.\n",
    "+ Appel récursif de la fonction, en divisant par deux la fenêtre de recherche et le facteur d'échelle.\n",
    "\n",
    "Mettre en oeuvre cette approche et appliquer là aux différentes images de votre base."
   ]
  },
  {
   "cell_type": "code",
   "execution_count": null,
   "metadata": {},
   "outputs": [],
   "source": [
    "# TO COMPLETE"
   ]
  },
  {
   "cell_type": "markdown",
   "metadata": {},
   "source": [
    "Qu'observez-vous pour l'image [emir.tiff](./Data/emir.tiff) ? "
   ]
  },
  {
   "cell_type": "code",
   "execution_count": null,
   "metadata": {},
   "outputs": [],
   "source": [
    "# TO COMPLETE"
   ]
  },
  {
   "cell_type": "markdown",
   "metadata": {},
   "source": [
    "Vous devriez avoir quelque chose comme :\n",
    "\n",
    "\n",
    "<center><img src='./Images/emir_bad.jpeg' width=300></center>\n",
    "\n",
    "D'ou vient le problème à votre avis ?"
   ]
  },
  {
   "cell_type": "code",
   "execution_count": null,
   "metadata": {},
   "outputs": [],
   "source": [
    "# TO COMPLETE"
   ]
  },
  {
   "cell_type": "markdown",
   "metadata": {},
   "source": [
    "### Utilisation des contours\n",
    "\n",
    "Une idée pour améliorer l'alignement est de se baser sur les contours. Il s'agit donc d'extraire les contours (forts) de ces différentes images et de construire l'alignement à partir de ces images de contours. Vous pouvez essayer ici plusieurs approches pour extraire les contours (Sobel, Canny...).\n",
    "\n",
    "\n",
    "<center><img src='./Images/emir_sobel.jpeg' width=300></center>\n",
    "\n",
    "\n",
    "Ecrire le code permettant de faire cet alignement à l'aide des contours et tester sur plusieurs des images de votre base."
   ]
  },
  {
   "cell_type": "code",
   "execution_count": null,
   "metadata": {},
   "outputs": [],
   "source": [
    "# TO COMPLETE"
   ]
  },
  {
   "cell_type": "markdown",
   "metadata": {},
   "source": [
    "### Etape 3 : amélioration de la qualité visuelle de l'image\n",
    "\n",
    "Il s'agit ici d'améliorer la qualité visuelle de l'image par traitement d'images.\n",
    "Des traitements possibles sont par exemple :\n",
    " + Le recadrage de bordures\n",
    " + L'amélioration du contraste par égalisation d'histogramme (en couleur ou en niveaux de gris)\n",
    " + et toute autre traitement que vous jugerez utile\n",
    " \n",
    " Ecrire ici le code permettant d'améliorer la qualité visuelle de l'image couleur ainsi créée."
   ]
  },
  {
   "cell_type": "code",
   "execution_count": null,
   "metadata": {},
   "outputs": [],
   "source": [
    "# TO COMPLETE\n"
   ]
  }
 ],
 "metadata": {
  "kernelspec": {
   "display_name": "Python 3",
   "language": "python",
   "name": "python3"
  },
  "language_info": {
   "codemirror_mode": {
    "name": "ipython",
    "version": 3
   },
   "file_extension": ".py",
   "mimetype": "text/x-python",
   "name": "python",
   "nbconvert_exporter": "python",
   "pygments_lexer": "ipython3",
   "version": "3.9.13"
  }
 },
 "nbformat": 4,
 "nbformat_minor": 4
}
