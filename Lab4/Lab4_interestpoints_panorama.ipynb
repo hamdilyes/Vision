{
 "cells": [
  {
   "cell_type": "markdown",
   "metadata": {
    "colab_type": "text",
    "id": "bNURObev8E86"
   },
   "source": [
    "<center><img src='./Figs/cs-logo.png' width=200></center>\n",
    "\n",
    "\n",
    "\n",
    "<h6><center></center></h6>\n",
    "\n",
    "<h1>\n",
    "<hr style=\" border:none; height:3px;\">\n",
    "<center>LAB 4 : Detecteur de Harris et création de panorama </center>\n",
    "<hr style=\" border:none; height:3px;\">\n",
    "</h1>\n",
    "\n",
    "\n",
    "\n",
    "\n",
    "L'objectif de ce TP est de mettre au point votre propre détecteur de points d'intérêts en suivant la méthode de Harris (c.f. cours).\n",
    "\n",
    "## Exercice 1 : calcul du critère de Harris\n",
    "Il s'agit ici d'écrire une fonction ou un ensemble de fonctions permettant de renvoyer la carte des coins de Harris $ H = det C - \\alpha (trace C)^{2}$ à partir d'une image donnée et pour une échelle donnée (taille de la fenêtre). On prendra $\\alpha = 0.04$."
   ]
  },
  {
   "cell_type": "markdown",
   "metadata": {
    "colab_type": "text",
    "id": "kjNa6HaF8E87"
   },
   "source": [
    "### Etape 1\n",
    "Calcul de $I_{x}$ et $I_{y}$ gradient en $x$ et en $y$ d'une image lissée à l'aide de l'opérateur de Sobel."
   ]
  },
  {
   "cell_type": "code",
   "execution_count": 1,
   "metadata": {
    "colab": {},
    "colab_type": "code",
    "id": "7EOl_Mr28E89"
   },
   "outputs": [],
   "source": [
    "# TO COMPLETE\n"
   ]
  },
  {
   "cell_type": "markdown",
   "metadata": {
    "colab_type": "text",
    "id": "dFIz8Cur8E9A"
   },
   "source": [
    "### Etape 2\n",
    "Calcul de $I_{x}^{2}$, $I_{x}^{2}$ et $I_{xy}= I_{x} \\times I_{y}$"
   ]
  },
  {
   "cell_type": "code",
   "execution_count": 0,
   "metadata": {
    "colab": {},
    "colab_type": "code",
    "id": "mCOXgat48E9C"
   },
   "outputs": [],
   "source": [
    "# TO COMPLETE\n"
   ]
  },
  {
   "cell_type": "markdown",
   "metadata": {
    "colab_type": "text",
    "id": "18B3y6N18E9F"
   },
   "source": [
    "### Etape 3\n",
    "Lisser avec un filtre gaussien de taille $N$ chacune des images précédentes."
   ]
  },
  {
   "cell_type": "code",
   "execution_count": 0,
   "metadata": {
    "colab": {},
    "colab_type": "code",
    "id": "Wqx8Iyiw8E9G"
   },
   "outputs": [],
   "source": [
    "# TO COMPLETE"
   ]
  },
  {
   "cell_type": "markdown",
   "metadata": {
    "colab_type": "text",
    "id": "1Q6impDj8E9J"
   },
   "source": [
    "### Etape 4\n",
    "En chaque pixel, calculer la fonction de Harris :$ H = det C - \\alpha (trace C)^{2}$ avec $\\alpha = 0.04$\n"
   ]
  },
  {
   "cell_type": "code",
   "execution_count": 0,
   "metadata": {
    "colab": {},
    "colab_type": "code",
    "id": "aaXN9lJb8E9K"
   },
   "outputs": [],
   "source": [
    "# TO COMPLETE"
   ]
  },
  {
   "cell_type": "markdown",
   "metadata": {
    "colab_type": "text",
    "id": "GTh7Jr_F8E9O"
   },
   "source": [
    "Appliquer sur l'image de maison et afficher l'image $H$. "
   ]
  },
  {
   "cell_type": "code",
   "execution_count": 0,
   "metadata": {
    "colab": {},
    "colab_type": "code",
    "id": "c7gOJdcv8E9P"
   },
   "outputs": [],
   "source": [
    "# TO COMPLETE"
   ]
  },
  {
   "cell_type": "markdown",
   "metadata": {
    "colab_type": "text",
    "id": "Z9sbxDgb8E9S"
   },
   "source": [
    "## Exercice 2 : détection des coins\n",
    "\n",
    "Il s'agit ici de mettre en place les fonctions pour détecter les coins à partir de la carte des coins construite dans la partie précédente.\n",
    "\n",
    "Ecrire une fonction permettant de binariser la carte des coins par une opération de seuillage."
   ]
  },
  {
   "cell_type": "code",
   "execution_count": 0,
   "metadata": {
    "colab": {},
    "colab_type": "code",
    "id": "2hSAYSmw8E9T"
   },
   "outputs": [],
   "source": [
    "# TO COMPLETE"
   ]
  },
  {
   "cell_type": "markdown",
   "metadata": {
    "colab_type": "text",
    "id": "r_Nu8Zut8E9W"
   },
   "source": [
    "Ecrire une fonction permettant d'extraire les maxima locaux sur un voisinage $3 \\times 3$ (mettre à 0 dans l'image binarisée tous les points  dont la valeur n'est pas supérieure à celle des 8 voisins ) "
   ]
  },
  {
   "cell_type": "code",
   "execution_count": 0,
   "metadata": {
    "colab": {},
    "colab_type": "code",
    "id": "E6Srm7uw8E9X"
   },
   "outputs": [],
   "source": [
    "# TO COMPLETE"
   ]
  },
  {
   "cell_type": "markdown",
   "metadata": {
    "colab_type": "text",
    "id": "WCcEJGC18E9b"
   },
   "source": [
    "Ecrire une fonction permettant d'afficher les points détectés en dessinant une croix blanche en chaque point sur l'image originale."
   ]
  },
  {
   "cell_type": "code",
   "execution_count": 0,
   "metadata": {
    "colab": {},
    "colab_type": "code",
    "id": "G4CPJINi8E9c"
   },
   "outputs": [],
   "source": []
  },
  {
   "cell_type": "markdown",
   "metadata": {
    "colab_type": "text",
    "id": "YnILTIVx8E9g"
   },
   "source": [
    "Appliquer sur l'image de maison"
   ]
  },
  {
   "cell_type": "markdown",
   "metadata": {
    "colab_type": "text",
    "id": "kBBU0sUh8E9g"
   },
   "source": [
    "## Exercice 3\n",
    "Plusieurs fonctions sont disponibles dans OpenCV pour le calcul de points d'intérêts. :\n",
    "+ [cornerHarris](http://docs.opencv.org/3.2.0/dc/d0d/tutorial_py_features_harris.html)\n",
    "+ [cornerSubPix](http://docs.opencv.org/3.2.0/dc/d0d/tutorial_py_features_harris.html)\n",
    "+ [goodFeaturesToTrack](http://docs.opencv.org/3.2.0/d4/d8c/tutorial_py_shi_tomasi.html) qui correspond à l'approche de Shi Tomasi\n",
    "+ [SIFT](http://docs.opencv.org/3.2.0/da/df5/tutorial_py_sift_intro.html)\n",
    "\n",
    "Documentez vous sur ces différentes fonctions et utilisez les pour calculer des points d'intérêts sur différentes images et notamment l'image (les images) utilisées dans la première partie de ce TP.\n",
    "\n"
   ]
  },
  {
   "cell_type": "markdown",
   "metadata": {
    "colab": {},
    "colab_type": "code",
    "id": "4liMqhFu8E9h"
   },
   "source": [
    "## Exercice 4 : création de panorama\n",
    "\n",
    "L'objectif de cet exercice est de créer un panorama à partir de plusieurs images, en utilisant les principales notions vues en cours.\n",
    "\n",
    "Le principe est relativement simple et suit l'approche vue en cours :\n",
    "\n",
    " + Une première étape est de décider quelle sera votre image source et quelles seront vos images destination (i.e les images que vous voulez mettre en correspondance avec votre image source).\n",
    " \n",
    " + Une fois l'image source choisie, une technique pour la création de panorama est de placer cette image dans un plus gros canevas (image de plus grande taille dont les pixels non connus seront mis à noir). La fonction [**warpAffine**]( https://docs.opencv.org/3.4.0/da/d6e/tutorial_py_geometric_transformations.html) d'OpenCV pourrait être utilisée pour cela.\n",
    "\n",
    " + L'étape d'après consiste à la détection et à la description d'un ensemble de points caractéristiques pour l'image cible transformée et l'ensemble des images destination. Vous pourrez pour cela utiliser les descripteurs [SIFT](https://docs.opencv.org/3.3.0/da/df5/tutorial_py_sift_intro.html).\n",
    " \n",
    " + Il s'agira ensuite de mettre en correspondance les descripteurs de l'image source avec ceux de l'image destination. Ici aussi vous pouvez utiliser plusieurs outils de [matching](https://docs.opencv.org/3.0-beta/doc/py_tutorials/py_feature2d/py_matcher/py_matcher.html) fournis par la bibliothèque OpenCV.\n",
    " \n",
    " + Seuls les 200 meilleures mises en correspondance seront gardées pour la suite.\n",
    " \n",
    " + A partir de ces mises en correspondance, il faut ensuite calculer l'homographie permettant de passer de l'image sources à l'image destination. Seuls 4 mises en correspondance sont nécessaire pour calculer cette homographie mais il est usuel d'en utiliser plus avec l'approche RANSAC expliquer très simplement [ici](http://eric-yuan.me/ransac/) et disponible dans Opencv (documentation [ici](https://docs.opencv.org/3.4.0/d9/dab/tutorial_homography.html)) comme un paramètre de la fonction **findHomography**).\n",
    " \n",
    " + Appliquer l'homographie obtenue à l'image destination.\n",
    " \n",
    " + Fusionner l'image cible et l'image destination.\n",
    " \n",
    "\n",
    "\n",
    "<center><img src='./Figs/panorama.png'></center>\n"
   ]
  },
  {
   "cell_type": "markdown",
   "metadata": {},
   "source": [
    "### Import des fichers utiles"
   ]
  },
  {
   "cell_type": "code",
   "execution_count": 1,
   "metadata": {},
   "outputs": [],
   "source": [
    "%matplotlib inline\n",
    "import numpy as np\n",
    "import cv2 \n",
    "from matplotlib import pyplot as plt"
   ]
  },
  {
   "cell_type": "markdown",
   "metadata": {},
   "source": [
    "### Première étape : chargement de vos images et choix de l'image source et des images destinations.\n",
    "\n",
    "Vous pourrez mettre vos différents images dans le répertoire [`Data`](.\\Data)."
   ]
  },
  {
   "cell_type": "code",
   "execution_count": 2,
   "metadata": {},
   "outputs": [],
   "source": [
    "# TO complete"
   ]
  },
  {
   "cell_type": "markdown",
   "metadata": {},
   "source": [
    "### Deuxième étape : calcul des points d'intérêts et de leur description\n",
    "\n",
    "Vous pouvez pour cette étape tester plusieurs des approches existantes et disponibles dans la bibliothèque OpenCV comme :\n",
    "+ SIFT (scale-invariant feature transform) : voir [ici](https://docs.opencv.org/master/da/df5/tutorial_py_sift_intro.html)\n",
    "+ SURF (Speeded-Up Robust Features) : très proche de SIFT mais avec une implementation qui permet le calcul des points et des descripteurs de manière rapide (voir [ici](https://docs.opencv.org/master/df/dd2/tutorial_py_surf_intro.html)).\n",
    "+ ORBFASTBRIEF (Oriented FAST and Rotated BRIEF) est un descripteur binaire rapide basé sur la combinaison du détecteur de points clés FAST (Features from Accelerated Segment Test) et du descripteur BRIEF (Binary robust independent elementary features). Il est invariant en rotation et robuste au bruit. Il a été développé dans les laboratoires OpenCV et constitue une alternative efficace et gratuite à SIFT. (voir [ici](https://docs.opencv.org/4.5.1/d1/d89/tutorial_py_orb.html))"
   ]
  },
  {
   "cell_type": "code",
   "execution_count": 3,
   "metadata": {},
   "outputs": [],
   "source": [
    "# TO complete"
   ]
  },
  {
   "cell_type": "markdown",
   "metadata": {},
   "source": [
    "### Troisième étape : Recherche des paires correspondantes\n",
    "\n",
    "Il s'agit maintenant de trouver les paires correspondantes candidates entre deux images. Ici aussi plusieurs approches sont possibles comme par exemple [`BFMatcher.knnMatch`](https://docs.opencv.org/master/dc/dc3/tutorial_py_matcher.html). Cette approche mesure la distance entre chaque paire de descripteurs de points clés et renvoie pour chaque point clé ses k meilleures correspondances avec la distance minimale.\n",
    "\n",
    "Il est nécessaire ensuite d'appliquer un filtre de ratio pour ne garder que les correspondances correctes. En effet, pour obtenir une correspondance fiable, les points clés appariés doivent être significativement plus proches que la correspondance incorrecte la plus proche."
   ]
  },
  {
   "cell_type": "code",
   "execution_count": 4,
   "metadata": {},
   "outputs": [],
   "source": [
    "# TO complete"
   ]
  },
  {
   "cell_type": "markdown",
   "metadata": {},
   "source": [
    "### Quatrième étape : Calcul de l'homographie \n",
    "\n",
    "Après avoir fait correspondre au moins quatre paires de points clés, nous pouvons transformer une image par rapport à l'autre. Cette opération est appelée déformation d'image (**image warping**). Deux images d'une même surface plane dans l'espace sont reliées par une homographie. Les homographies sont des transformations géométriques qui ont 8 paramètres libres et sont représentées par une matrice 3x3. Elles représentent toute distorsion apportée à une image dans son ensemble (par opposition aux déformations locales). Par conséquent, pour obtenir l'image détectée transformée, il faut calculer la matrice d'homographie et l'appliquer à l'image détectée.\n",
    "\n",
    "L'algorithme RANSAC peut etre utiliser pour détecter les valeurs aberrantes et les éliminer avant de déterminer l'homographie finale. Il est directement intégré à la méthode [`findHomography`](https://docs.opencv.org/master/d1/de0/tutorial_py_feature_homography.html) d'OpenCV. "
   ]
  },
  {
   "cell_type": "code",
   "execution_count": 5,
   "metadata": {},
   "outputs": [],
   "source": [
    "# TO complete"
   ]
  },
  {
   "cell_type": "markdown",
   "metadata": {},
   "source": [
    "### Cinquième étape : déformation des images\n",
    "\n",
    "Appliquer une transformation de déformation en utilisant la matrice d'homographie obtenue"
   ]
  },
  {
   "cell_type": "code",
   "execution_count": null,
   "metadata": {},
   "outputs": [],
   "source": [
    "# TO complete"
   ]
  },
  {
   "cell_type": "markdown",
   "metadata": {},
   "source": [
    "Appliquer votre chaîne aux différentes imahes collectées. Que contastez vous? Quels types d'améliorations proposeriez vous ?"
   ]
  },
  {
   "cell_type": "code",
   "execution_count": null,
   "metadata": {},
   "outputs": [],
   "source": []
  },
  {
   "cell_type": "markdown",
   "metadata": {},
   "source": [
    "Pour aller plus loin, voir :\n",
    "+ https://www.pyimagesearch.com/2018/12/17/image-stitching-with-opencv-and-python/"
   ]
  },
  {
   "cell_type": "code",
   "execution_count": null,
   "metadata": {},
   "outputs": [],
   "source": []
  }
 ],
 "metadata": {
  "colab": {
   "name": "Lab4_interestpoints.ipynb",
   "provenance": []
  },
  "kernelspec": {
   "display_name": "Python 3 (ipykernel)",
   "language": "python",
   "name": "python3"
  },
  "language_info": {
   "codemirror_mode": {
    "name": "ipython",
    "version": 3
   },
   "file_extension": ".py",
   "mimetype": "text/x-python",
   "name": "python",
   "nbconvert_exporter": "python",
   "pygments_lexer": "ipython3",
   "version": "3.9.13"
  }
 },
 "nbformat": 4,
 "nbformat_minor": 1
}
