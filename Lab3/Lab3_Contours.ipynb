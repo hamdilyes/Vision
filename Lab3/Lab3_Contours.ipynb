{
 "cells": [
  {
   "cell_type": "markdown",
   "metadata": {},
   "source": [
    "<center><img src='./Figs/cs-logo.png' width=200></center>\n",
    "\n",
    "\n",
    "\n",
    "<h6><center></center></h6>\n",
    "\n",
    "<h1>\n",
    "<hr style=\" border:none; height:3px;\">\n",
    "<center>TP3 : Detection de contours </center>\n",
    "<hr style=\" border:none; height:3px;\">\n",
    "</h1>\n",
    "\n",
    "L'objectif de ce TP est double : d'une part comprendre le principe de la détection de contours en implémentant votre propre détecteur de Canny puis ensuite il s'agira de comparer les différents algorithmes présents dans OpenCV. Enfin, on s'intéressera à la détection de lignes dans des images de route.\n",
    "\n",
    "\n",
    "## Exercice 1 : Votre propre détecteur de Canny\n",
    "\n",
    "Il s'agira d'implémenter les étapes suivantes :\n",
    " + Lissage par un filtre gaussien.\n",
    " + Calcul des gradients.\n",
    " + Supression des non-maxima.\n",
    " + Seuillage.\n",
    " + Seuillage par hysterésis.\n",
    "\n",
    "### Lissage par un filtre gaussien\n",
    "\n",
    "Ouvrir une image et convoluer cette image par un filtre gaussien de taille de noyau 3 et avec $\\sigma=1$. Vous pourrez pour cela utiliser la fonction **GaussianBlur** d'OpenCV : documentation [ici](https://docs.opencv.org/3.1.0/d4/d13/tutorial_py_filtering.html)\n"
   ]
  },
  {
   "cell_type": "code",
   "execution_count": null,
   "metadata": {},
   "outputs": [],
   "source": [
    "%matplotlib inline\n",
    "\n",
    "import cv2\n",
    "import numpy as np\n",
    "from matplotlib import pyplot as plt\n",
    "# TO COMPLETE"
   ]
  },
  {
   "cell_type": "markdown",
   "metadata": {},
   "source": [
    "Tester avec différentes tailles de noyau et différentes valeurs de $\\sigma$. Afficher l'image originale et l'image filtrée"
   ]
  },
  {
   "cell_type": "code",
   "execution_count": null,
   "metadata": {},
   "outputs": [],
   "source": [
    "kernel_size = 5\n",
    "sigma = 1.4\n",
    "\n",
    "# TO COMPLETE"
   ]
  },
  {
   "cell_type": "markdown",
   "metadata": {},
   "source": [
    "### Calcul des gradients\n",
    "\n",
    "Vous avez ici deux possibilités :\n",
    "+ Utiliser les fonctions d'OpennCV et notamment le filtre de Sobel sur l'image d'origine.\n",
    "+ Proposer vos propres filtres approximant les dérivées premières et les appliquer aux images précedemment lissées\n",
    "\n",
    "Documentation [ici](https://docs.opencv.org/4.7.0/d5/d0f/tutorial_py_gradients.html)\n"
   ]
  },
  {
   "cell_type": "code",
   "execution_count": null,
   "metadata": {},
   "outputs": [],
   "source": [
    "# TO COMPLETE"
   ]
  },
  {
   "cell_type": "markdown",
   "metadata": {},
   "source": [
    "###  Suppression des non-maxima\n",
    "\n",
    "Le principe (par discretisation de la direction) est le suivant :\n",
    " + Arrondir la direction du gradient avec un voisinage de 8 (plus proche 45 degré)\n",
    " + Comparer la force du gradient du pixel courant avec celle qui se trouve dans la direction arrondie positive et négative du gradient.\n",
    " + Conserver le pixel si sa force est plus grande que ses deux voisins dans la direction du gradient.\n",
    "\n"
   ]
  },
  {
   "cell_type": "code",
   "execution_count": null,
   "metadata": {},
   "outputs": [],
   "source": [
    "# TO COMPLETE"
   ]
  },
  {
   "cell_type": "markdown",
   "metadata": {},
   "source": [
    "### Seuillage\n",
    "\n",
    "Le detecteur de Canny utilise un double seuillage. Les pixels dont la force du contour est au dessus d'un premier seuil (seuil haut) sont conservés. Les pixels dont la force du contour est en dessous du deuxième seuil (seuil bas) sont supprimés. Les pixels restant sont considérés comme pixels faibles.  Mettre en oeuvre ce principe\n"
   ]
  },
  {
   "cell_type": "code",
   "execution_count": null,
   "metadata": {},
   "outputs": [],
   "source": [
    "low_threshold = 0.02\n",
    "high_threshold = 0.03\n",
    "\n",
    "\n",
    "# TO COMPLETE"
   ]
  },
  {
   "cell_type": "markdown",
   "metadata": {},
   "source": [
    "### Seuillage par hysterésis\n",
    "\n",
    "Le principe consiste à ne garder que les pixels faibles qui sont dans le voisinage de pixels forts. Mettre en oeuvre ce principe avec une taille de voisinage pouvant se paramétrer.\n"
   ]
  },
  {
   "cell_type": "code",
   "execution_count": null,
   "metadata": {},
   "outputs": [],
   "source": [
    "# TO COMPLETE"
   ]
  },
  {
   "cell_type": "markdown",
   "metadata": {},
   "source": [
    "### Detecteur de Canny \n",
    "\n",
    "Tester votre détecteur de Canny ainsi créé sur plusieurs images. Comparer le avec celui implémenté dans OpenCV : [ici](https://docs.opencv.org/3.3.1/da/d22/tutorial_py_canny.html)."
   ]
  },
  {
   "cell_type": "markdown",
   "metadata": {},
   "source": [
    "## Exercice 2 : Comparaison d'approches de detection de contours\n",
    "\n",
    "L'objectif de cet exercice est de comparer différents algorithmes de détection de contours.\n",
    "Plusieurs algorithmes sont présents pour la détection de contours dans OpenCV : *Sobel*, *Scharr*, *Laplacian* et *Canny*. La documentation utile est disponible [ici](http://docs.opencv.org/4.7.0/da/d22/tutorial_py_canny.html) et [ici](http://docs.opencv.org/4.7.0/d5/d0f/tutorial_py_gradients.html).\n",
    "\n",
    "Vous allez faire une comparaison de 3 détecteurs de contours (Sobel, Laplace, Canny) avec 10 images différentes disponibles dans le répertoire Data. Ces images proviennent de la [base d'images de Berkeley](http://www.eecs.berkeley.edu/Research/Projects/CS/vision/bsds/BSDS300/html/dataset/images.html) qui contient la vérité terrain (segmentation manuelle des contours par des humains). Vous pouvez augmenter le nombre d'images du jeu de données de test en récupérant d'autres images et leur vérité terrain en parcourant le jeu de données en ligne.\n",
    "\n",
    "Ecrire un programme permettant d'apppliquer les différents détecteurs de contour sur les images de votre base de test/\n"
   ]
  },
  {
   "cell_type": "code",
   "execution_count": null,
   "metadata": {},
   "outputs": [],
   "source": [
    "# TO COMPLETE"
   ]
  },
  {
   "cell_type": "markdown",
   "metadata": {},
   "source": [
    "Cette étape consiste en la comparaison d'une image de contours avec la référence tracée à la main en utilisant 5 grandeurs :\n",
    "+ **contours-detectes** = nombre de pixels contours dans l'image calculée.\n",
    "+ **contours-reference** = nombre de pixels contours dans l'image de référence.\n",
    "+ **contours-correc** = nombre de pixels contours correctement détectés dans l'image calculée selon l'image référence. \n",
    "Pour cette grandeur, il faudrait tenir compte d'un décalage possible entre les images. On négligera ce décalage ici.\n",
    "+ **faux-positifs** = nombre de pixels détectés comme contours mais qui ne le sont pas dans l'image de référence.\n",
    "+ **faux-negatifs** = nombre de pixels non détectés comme contours.\n",
    "\n",
    "Ecrire le code permettant de calculer ces grandeurs étant données une image de contours et sa vérité terrain.\n"
   ]
  },
  {
   "cell_type": "code",
   "execution_count": null,
   "metadata": {},
   "outputs": [],
   "source": [
    "# TO COMPLETE"
   ]
  },
  {
   "cell_type": "markdown",
   "metadata": {},
   "source": [
    " En déduire les trois mesures suivantes pour évaluer les détecteurs :\n",
    "+  **P**=**contours-correc}** / (**contours-correc**+ **faux-positifs**+**faux-negatifs**)\n",
    "+  **TFP*** = **faux-positifs** / (**contours-correc**+ **faux-positifs** +**faux-negatifs**)\n",
    "+ **TFN** = **faux-negatifs** / (**contours-correc**+ **faux-positifs** +**faux-negatifs**)\n",
    "\n",
    "Ecrire le code permettant de calculer ces mesures et calculer les sur la base de test. Discuter des résultats.\n",
    "\n"
   ]
  },
  {
   "cell_type": "code",
   "execution_count": null,
   "metadata": {},
   "outputs": [],
   "source": [
    "# TO COMPLETE"
   ]
  },
  {
   "cell_type": "markdown",
   "metadata": {},
   "source": [
    "## Exercice 3 : Détection de lignes\n",
    "L'objectif de cet exercice est de tester l'approche de détection de lignes droites dans des images à l'aide du détecteur de contours et de la transformée de Hough. \n",
    "Le principe sera le suivant :\n",
    "+ Détection des contours avec le meilleur détecteur à votre disposition (c.f. exercice 2).\n",
    "+ Extraire les regions d'intérêts dans des images (dans les images à votre disposition les droites recherches sont dans la moitié basse de l'image et il est donc possible de définir un masque.\n",
    "+ Appliquer la transformée de Hough pour la détection de droites.\n",
    "\n",
    "\n",
    "Charger l'image **road.jpg** (repertoire Data/LAB3) ci dessous et appliquer un détecteur de contours.\n",
    "![road.jpg](./Data/LAB3/road.jpg)"
   ]
  },
  {
   "cell_type": "code",
   "execution_count": null,
   "metadata": {},
   "outputs": [],
   "source": [
    "# TO COMPLETE"
   ]
  },
  {
   "cell_type": "markdown",
   "metadata": {},
   "source": [
    "Restreindre la detection des contours et des droites à la moitié basse de l'image en définissant un masque et donc une region d'intérêt."
   ]
  },
  {
   "cell_type": "code",
   "execution_count": null,
   "metadata": {},
   "outputs": [],
   "source": [
    "# TO COMPLETE"
   ]
  },
  {
   "cell_type": "markdown",
   "metadata": {},
   "source": [
    "Appliquer la detection de contours sur cette région d'intérêt. Visualiser l'image résultat"
   ]
  },
  {
   "cell_type": "code",
   "execution_count": null,
   "metadata": {},
   "outputs": [],
   "source": [
    "# TO COMPLETE"
   ]
  },
  {
   "cell_type": "markdown",
   "metadata": {},
   "source": [
    "Détecter les droites à l'aide de la fonction **cv2.HoughLines** d'openCV. Une documentation est disponible [ici](https://docs.opencv.org/4.7.0/d9/db0/tutorial_hough_lines.html)"
   ]
  },
  {
   "cell_type": "code",
   "execution_count": null,
   "metadata": {},
   "outputs": [],
   "source": [
    "# TO COMPLETE"
   ]
  },
  {
   "cell_type": "markdown",
   "metadata": {},
   "source": [
    "Tester votre chaîne algorithmique sur d'autres images."
   ]
  },
  {
   "cell_type": "code",
   "execution_count": null,
   "metadata": {},
   "outputs": [],
   "source": [
    "# TO COMPLETE"
   ]
  }
 ],
 "metadata": {
  "kernelspec": {
   "display_name": "Python 3 (ipykernel)",
   "language": "python",
   "name": "python3"
  },
  "language_info": {
   "codemirror_mode": {
    "name": "ipython",
    "version": 3
   },
   "file_extension": ".py",
   "mimetype": "text/x-python",
   "name": "python",
   "nbconvert_exporter": "python",
   "pygments_lexer": "ipython3",
   "version": "3.9.13"
  }
 },
 "nbformat": 4,
 "nbformat_minor": 2
}
