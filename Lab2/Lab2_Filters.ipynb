{
 "cells": [
  {
   "attachments": {},
   "cell_type": "markdown",
   "metadata": {},
   "source": [
    "<center><img src='./Figs/cs-logo.png' width=200></center>\n",
    "\n",
    "\n",
    "\n",
    "<h6><center></center></h6>\n",
    "\n",
    "<h1>\n",
    "<hr style=\" border:none; height:3px;\">\n",
    "<center>TP2 : Pré-traitements et Filtrage d'images </center>\n",
    "<hr style=\" border:none; height:3px;\">\n",
    "</h1>\n",
    "\n",
    "\n",
    "## Exercice 1 : Quelques manipulations simples avec des histogrammes"
   ]
  },
  {
   "attachments": {},
   "cell_type": "markdown",
   "metadata": {},
   "source": [
    "L'objectif de cet exercice est de refaire quelques manipulations simples d'images au travers de la notion d'histogramme. Vous travaillerez sur une image de votre choix.\n",
    "\n",
    "+ Ouvrir une image et la visualiser. On travaillera dans un premier temps sur l'image en niveau de gris.\n"
   ]
  },
  {
   "cell_type": "code",
   "execution_count": 1,
   "metadata": {},
   "outputs": [],
   "source": [
    "%matplotlib inline\n",
    "\n",
    "import cv2\n",
    "import numpy as np\n",
    "from matplotlib import pyplot as plt\n",
    "\n",
    "# To complete"
   ]
  },
  {
   "cell_type": "markdown",
   "metadata": {},
   "source": [
    "+ Calculer et visualiser l'histogramme de cette image. \n"
   ]
  },
  {
   "cell_type": "code",
   "execution_count": 2,
   "metadata": {},
   "outputs": [],
   "source": [
    "\n",
    "# To complete"
   ]
  },
  {
   "cell_type": "markdown",
   "metadata": {},
   "source": [
    "+ Ecrire une fonction qui permet de déterminer le niveau de gris minimum et le niveau de gris maximum d'une image et l'appliquer à votre image.\n"
   ]
  },
  {
   "cell_type": "code",
   "execution_count": 3,
   "metadata": {},
   "outputs": [],
   "source": [
    "import numpy as np\n",
    "\n",
    "    \n",
    "# To complete"
   ]
  },
  {
   "cell_type": "markdown",
   "metadata": {},
   "source": [
    " + Ecrire une fonction **egalisationHisto (I,h)** qui, à partir d'une image $I$ et de son histogramme $h$ renvoie l'image après égalisation. Vous pourrez aussi afficher l'histogramme de l'image après égalisation.\n",
    " \n",
    "Dans une première version, vous n'utiliserez pas les méthodes proposées par la bibliothèque OpenCV autre que celles permettant de construire un histogramme **calcHist**. Il faudra donc calculer l'histogramme cumulé et appliquer la transformation vue en cours.\n"
   ]
  },
  {
   "cell_type": "code",
   "execution_count": 4,
   "metadata": {},
   "outputs": [
    {
     "ename": "IndentationError",
     "evalue": "expected an indented block (2785764866.py, line 2)",
     "output_type": "error",
     "traceback": [
      "\u001b[1;36m  File \u001b[1;32m\"C:\\Users\\ilyes\\AppData\\Local\\Temp\\ipykernel_22244\\2785764866.py\"\u001b[1;36m, line \u001b[1;32m2\u001b[0m\n\u001b[1;33m    # TO COMPLETE\u001b[0m\n\u001b[1;37m                 ^\u001b[0m\n\u001b[1;31mIndentationError\u001b[0m\u001b[1;31m:\u001b[0m expected an indented block\n"
     ]
    }
   ],
   "source": [
    "def egalisationHisto(h,I):\n",
    "    # TO COMPLETE"
   ]
  },
  {
   "attachments": {},
   "cell_type": "markdown",
   "metadata": {},
   "source": [
    "+ Ecrire une deuxième version **egalisationHistobis(h,I)** dans laquelle vous pouvez utiliser les méthodes déjà disponibles dans OpenCV et numpy et décrites [ici](https://docs.opencv.org/4.x/d5/daf/tutorial_py_histogram_equalization.html#:~:text=Histograms%20Equalization%20in%20OpenCV&text=Its%20input%20is%20just%20grayscale,is%20our%20histogram%20equalized%20image.&text=So%20now%20you%20can%20take,confined%20to%20a%20particular%20region.)"
   ]
  },
  {
   "cell_type": "code",
   "execution_count": null,
   "metadata": {},
   "outputs": [],
   "source": [
    "def egalisationHistobis(h,I):\n",
    "    # TO COMPLETE"
   ]
  },
  {
   "cell_type": "markdown",
   "metadata": {},
   "source": [
    "Appliquer maintenant le principe de l'égalisation d'histogramme à une image couleur avec deux stratégies :\n",
    "+ Une première stratégie consistera à appliquer le principe de l'égalisation sur chacune des composantes couleur de votre image.\n",
    "+ Une deuxième stratégie consiste en l'application d'un passage en HSV puis de l'application de l'égalisation uniquement sur la composante $V$. \n",
    "\n",
    "Que constatez-vous ?"
   ]
  },
  {
   "cell_type": "code",
   "execution_count": null,
   "metadata": {},
   "outputs": [],
   "source": [
    "# TO COMPLETE"
   ]
  },
  {
   "attachments": {},
   "cell_type": "markdown",
   "metadata": {},
   "source": [
    "## Exercice 2 : filtrage\n",
    "\n",
    "### Utilisation des fonctions d'OpenCV\n",
    "\n",
    "La bibliothèque OpenCV possède plusieurs fonctions prédéfinies pour le filtrage d'images. En particulier, les différents filtres vus en cours ont tous des fonctions associées :\n",
    "+  Les fonctions **blur** et **boxFilter** permettent de filtrer une image par un filtre moyenneur dont la taille est paramétrable.\n",
    "+  La fonction **GaussianBlur** permet l'application d'un filtre gaussien à une image.\n",
    "+  La fonction **medianBlur** permet l'application d'un filtre median à une image.\n",
    "\n",
    "Tester ces différentes fonctions sur une image cible (en couleur et en niveau de gris) en jouant sur les différents paramètres, notamment la taille des filtres et la gestion des bords.\n",
    "Tutorial [ici](http://docs.opencv.org/4.7.0/d4/d13/tutorial_py_filtering.html)\n"
   ]
  },
  {
   "cell_type": "code",
   "execution_count": null,
   "metadata": {},
   "outputs": [],
   "source": [
    "# TO COMPLETE\n"
   ]
  },
  {
   "cell_type": "markdown",
   "metadata": {},
   "source": [
    "### Implémentation de l'opération de convolution (adapté du cours CS 131 Stanford)\n",
    "\n",
    "L'objectif ici est d'implémenter deux versions de l'opération de convolution :\n",
    "+ Une version naive (**conv_nested**)\n",
    "+ Une version rapide (**conv_fast**)\n",
    "\n",
    "Ecrire la fonction **conv_nested**, une implémentation naïve de la convolution ( 4 boucles imbriquées) prenant en entrée une image $I$ et un masque de convolution $h$ et qui renvoie l'image filtrée ($I * h$).\n"
   ]
  },
  {
   "cell_type": "code",
   "execution_count": null,
   "metadata": {},
   "outputs": [],
   "source": [
    "def conv_nested(I,h):\n",
    "    # TO COMPLETE\n"
   ]
  },
  {
   "cell_type": "markdown",
   "metadata": {},
   "source": [
    "Tester cette fonction sur une image simple"
   ]
  },
  {
   "cell_type": "code",
   "execution_count": null,
   "metadata": {},
   "outputs": [],
   "source": [
    "kernel = np.array(\n",
    "[\n",
    "    [1,0,1],\n",
    "    [0,0,0],\n",
    "    [1,0,1]\n",
    "])\n",
    "\n",
    "# Create a test image: a white square in the middle\n",
    "test_img = np.zeros((9, 9))\n",
    "test_img[3:6, 3:6] = 1\n",
    "\n",
    "# Run your conv_nested function on the test image\n",
    "test_output = conv_nested(test_img, kernel)\n",
    "\n",
    "# Build the expected output\n",
    "expected_output = np.zeros((9, 9))\n",
    "expected_output[2:7, 2:7] = 1\n",
    "expected_output[4, 2:7] = 2\n",
    "expected_output[2:7, 4] = 2\n",
    "expected_output[4, 4] = 4\n",
    "\n",
    "# Plot the test image\n",
    "plt.subplot(1,3,1)\n",
    "plt.imshow(test_img)\n",
    "plt.title('Test image')\n",
    "plt.axis('off')\n",
    "\n",
    "# Plot your convolved image\n",
    "plt.subplot(1,3,2)\n",
    "plt.imshow(test_output)\n",
    "plt.title('Convolution')\n",
    "plt.axis('off')\n",
    "\n",
    "# Plot the exepected output\n",
    "plt.subplot(1,3,3)\n",
    "plt.imshow(expected_output)\n",
    "plt.title('Exepected output')\n",
    "plt.axis('off')\n",
    "plt.show()\n",
    "\n",
    "# Test if the output matches expected output\n",
    "assert np.max(test_output - expected_output) < 1e-10, \"Your solution is not correct.\""
   ]
  },
  {
   "cell_type": "markdown",
   "metadata": {},
   "source": [
    "Tester maintenant votre fonction sur une image réelle avec le filtre de votre choix (existant dans OpenCV) et comparer le résultat obtenu avec celui que vous obtenez de la fonction OpenCV"
   ]
  },
  {
   "cell_type": "code",
   "execution_count": null,
   "metadata": {},
   "outputs": [],
   "source": [
    "# TO COMPLETE"
   ]
  },
  {
   "attachments": {},
   "cell_type": "markdown",
   "metadata": {},
   "source": [
    "Ecrire la fonction **conv_fast**, une implémentation plus rapide de la convolution tirant partie des opérations sur les arrays définies dans numpy. En particulier la convolution peut être vue comme l'application d'une fenêtre glissante sur l'image qui calcule la somme des pixels contenus dans la fenêtre pondérée par les valeurs du noyau. Pour gérer les effets de bords, on appliquera le principe du zero padding."
   ]
  },
  {
   "cell_type": "code",
   "execution_count": null,
   "metadata": {},
   "outputs": [],
   "source": [
    "def conv_fast(I,h):\n",
    "    # TO COMPLETE"
   ]
  },
  {
   "cell_type": "markdown",
   "metadata": {},
   "source": [
    "Comparer vos différentes implémentations"
   ]
  },
  {
   "cell_type": "code",
   "execution_count": null,
   "metadata": {},
   "outputs": [],
   "source": [
    "from time import *\n",
    "\n",
    "t0 = time()\n",
    "out_fast = conv_fast(img, kernel)\n",
    "t1 = time()\n",
    "out_nested = conv_nested(img, kernel)\n",
    "t2 = time()\n",
    "\n",
    "# Compare the running time of the two implementations\n",
    "print(\"conv_nested: took %f seconds.\" % (t2 - t1))\n",
    "print(\"conv_fast: took %f seconds.\" % (t1 - t0))\n",
    "\n",
    "# Plot conv_nested output\n",
    "plt.subplot(1,2,1)\n",
    "plt.imshow(out_nested)\n",
    "plt.title('conv_nested')\n",
    "plt.axis('off')\n",
    "\n",
    "# Plot conv_fast output\n",
    "plt.subplot(1,2,2)\n",
    "plt.imshow(out_fast)\n",
    "plt.title('conv_fast')\n",
    "plt.axis('off')\n",
    "\n",
    "# Make sure that the two outputs are the same\n",
    "if not (np.max(out_fast - out_nested) < 1e-10):\n",
    "    print(\"Different outputs! Check your implementation.\")"
   ]
  },
  {
   "attachments": {},
   "cell_type": "markdown",
   "metadata": {},
   "source": [
    "### Filtre de Nagao\n",
    "\n",
    "Ce filtrage a été présenté dans l'article \"Edge preserving smoothing\" par M. Nagao et T. Matsuyama, dans le journal Computer Graphics and Image Processing de 1979, volume 9. Il permet un lissage de l'image conservant les contours, dans l'optique d'un prétraitement pour une segmentation par régions.\n",
    "\n",
    "Le filtrage de Nagao qui consiste à prendre une fenêtre centrée sur chaque pixel et à considérer les 9 domaines $\\mathcal{D}_i$ définis comme sur l'image ci-dessous.\n",
    "\n",
    "<center><img src='./Images/nagao.png' width=200></center>\n",
    "\n",
    "\n",
    "Ensuite, il s'agit de :\n",
    "+  Calculer pour chaque domaine $\\mathcal{D}_i$ la moyenne $\\mu_i$ et la variance $\\sigma_i^2$.\n",
    "+  Remplacer chaque pixel par la moyenne du domaine de plus faible variance.\n",
    "\n",
    "Ecrire une fonction mettant en oeuvre le principe du filtrage de Nagao"
   ]
  },
  {
   "cell_type": "code",
   "execution_count": null,
   "metadata": {},
   "outputs": [],
   "source": [
    "def nagao_filter(I):\n",
    "    # TO COMPLETE"
   ]
  },
  {
   "cell_type": "markdown",
   "metadata": {},
   "source": [
    "### Filtres séparables  (adapté du cours CS 131 Stanford)\n",
    "\n",
    "Nous allons comparer expérimentalement le temps d'exécution d'une convolution séparable 2D versus son équivalent en 1D. Nous utiliserons le noyau gaussien qui est un filtre séparable.\n"
   ]
  },
  {
   "cell_type": "code",
   "execution_count": null,
   "metadata": {},
   "outputs": [],
   "source": [
    "# Load image\n",
    "\n",
    "# TO COMPLETE\n",
    "\n",
    "# 5x5 Gaussian blur\n",
    "kernel = np.array(\n",
    "[\n",
    "    [1,4,6,4,1],\n",
    "    [4,16,24,16,4],\n",
    "    [6,24,36,24,6],\n",
    "    [4,16,24,16,4],\n",
    "    [1,4,6,4,1]\n",
    "])\n",
    "\n",
    "t0 = time()\n",
    "out = conv_nested(img, kernel)\n",
    "t1 = time()\n",
    "t_normal = t1 - t0\n",
    "\n",
    "# Plot original image\n",
    "plt.subplot(1,2,1)\n",
    "plt.imshow(img)\n",
    "plt.title('Original')\n",
    "plt.axis('off')\n",
    "\n",
    "# Plot convolved image\n",
    "plt.subplot(1,2,2)\n",
    "plt.imshow(out)\n",
    "plt.title('Blurred')\n",
    "plt.axis('off')\n",
    "\n",
    "plt.show()"
   ]
  },
  {
   "cell_type": "markdown",
   "metadata": {},
   "source": [
    "Ecrire l'équivalent avec des noyaux 1D (k1 and k2) dont le produit est égale au noyau gaussien.\n"
   ]
  },
  {
   "cell_type": "code",
   "execution_count": null,
   "metadata": {},
   "outputs": [],
   "source": [
    "# The kernel can be written as outer product of two 1D filters\n",
    "k1 = None  # shape (5, 1)\n",
    "k2 = None  # shape (1, 5)\n",
    "\n",
    "### YOUR CODE HERE\n",
    "pass\n",
    "### END YOUR CODE\n",
    "\n",
    "# Check if kernel is product of k1 and k2\n",
    "if not  np.all(k1 * k2 == kernel):\n",
    "    print('k1 * k2 is not equal to kernel')\n",
    "    \n",
    "assert k1.shape == (5, 1), \"k1 should have shape (5, 1)\"\n",
    "assert k2.shape == (1, 5), \"k2 should have shape (1, 5)\""
   ]
  },
  {
   "cell_type": "markdown",
   "metadata": {},
   "source": [
    "Comparer"
   ]
  },
  {
   "cell_type": "code",
   "execution_count": null,
   "metadata": {},
   "outputs": [],
   "source": [
    "# Perform two convolutions using k1 and k2\n",
    "t0 = time()\n",
    "out_separable = conv_nested(img, k1)\n",
    "out_separable = conv_nested(out_separable, k2)\n",
    "t1 = time()\n",
    "t_separable = t1 - t0\n",
    "\n",
    "# Plot normal convolution image\n",
    "plt.subplot(1,2,1)\n",
    "plt.imshow(out)\n",
    "plt.title('Normal convolution')\n",
    "plt.axis('off')\n",
    "\n",
    "# Plot separable convolution image\n",
    "plt.subplot(1,2,2)\n",
    "plt.imshow(out_separable)\n",
    "plt.title('Separable convolution')\n",
    "plt.axis('off')\n",
    "\n",
    "plt.show()\n",
    "\n",
    "print(\"Normal convolution: took %f seconds.\" % (t_normal))\n",
    "print(\"Separable convolution: took %f seconds.\" % (t_separable))\n",
    "\n",
    "\n",
    "# Check if the two outputs are equal\n",
    "assert np.max(out_separable - out) < 1e-10\n",
    "\n"
   ]
  }
 ],
 "metadata": {
  "kernelspec": {
   "display_name": "Python 3 (ipykernel)",
   "language": "python",
   "name": "python3"
  },
  "language_info": {
   "codemirror_mode": {
    "name": "ipython",
    "version": 3
   },
   "file_extension": ".py",
   "mimetype": "text/x-python",
   "name": "python",
   "nbconvert_exporter": "python",
   "pygments_lexer": "ipython3",
   "version": "3.9.13"
  }
 },
 "nbformat": 4,
 "nbformat_minor": 2
}
